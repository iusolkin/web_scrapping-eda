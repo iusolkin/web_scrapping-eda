{
 "cells": [
  {
   "cell_type": "markdown",
   "id": "775cc52a",
   "metadata": {},
   "source": [
    "# Web scraping & EDA"
   ]
  },
  {
   "cell_type": "markdown",
   "id": "f63a0e78",
   "metadata": {},
   "source": [
    "Parsing profiles of candidates who are looking for a job as an analyst from djinny.co and conducting EDA analysis"
   ]
  },
  {
   "cell_type": "code",
   "execution_count": 141,
   "id": "44bc38b5",
   "metadata": {},
   "outputs": [],
   "source": [
    "#import libraries\n",
    "\n",
    "import pandas as pd\n",
    "import requests\n",
    "from bs4 import BeautifulSoup\n",
    "from time import sleep\n",
    "import seaborn as sns\n",
    "import matplotlib.pyplot as plt"
   ]
  },
  {
   "cell_type": "markdown",
   "id": "b6ebc710",
   "metadata": {},
   "source": [
    "### Scrapping Data from djinni site"
   ]
  },
  {
   "cell_type": "code",
   "execution_count": 146,
   "id": "e62fc92a",
   "metadata": {},
   "outputs": [],
   "source": [
    "data = []\n",
    "\n",
    "# getting numbers of pages\n",
    "\n",
    "url = 'https://djinni.co/developers/?title=Data%20Analyst'\n",
    "r = requests.get(url)\n",
    "pages = int(BeautifulSoup(r.text, 'lxml').find_all('a',class_='page-link')[-2].text)\n",
    "\n",
    "for p in range(1, pages):\n",
    "    \n",
    "    #getting names & urls canditades\n",
    "    \n",
    "    url = f'https://djinni.co/developers/?title=Data+Analyst&page={p}'\n",
    "    r = requests.get(url)\n",
    "    soup = BeautifulSoup(r.text, 'lxml')\n",
    "    sleep(3)\n",
    "    \n",
    "    headers = soup.find_all('div', class_='candidate-header')\n",
    "    \n",
    "    for header in headers:\n",
    "        \n",
    "        #getting information of canditad\n",
    "        \n",
    "        name = header.find('a', class_=\"profile\").text.strip()\n",
    "        url = 'https://djinni.co'+header.find('a', class_=\"profile\").get('href')\n",
    "        r = requests.get(url)\n",
    "        soup = BeautifulSoup(r.text, 'lxml')\n",
    "        \n",
    "        country = [i.strip() for i in soup.find('div',class_='main-profile-details').text.split('·')][0]\n",
    "        en_level = list(filter(None, [i.strip() for i in soup.find('p',class_='before-hint').text.strip().split('\\n')]))[-2]\n",
    "\n",
    "        salary = soup.find('div',class_='main-profile-details').find('span', 'profile-details-salary').text\n",
    "        experiense = soup.find('p',class_='before-hint').text.split('·')[0].strip().split('\\n')[0]\n",
    "        try:\n",
    "            skills = soup.find_all('p',class_='profile')[1].text\n",
    "        except:\n",
    "            skills = '-'\n",
    "        \n",
    "        #collecting data in list\n",
    "        \n",
    "        data.append([name, url, country, en_level, salary, experiense, skills])"
   ]
  },
  {
   "cell_type": "code",
   "execution_count": 261,
   "id": "adabbdb6",
   "metadata": {},
   "outputs": [],
   "source": [
    "columns = ['name', 'url', 'country', 'en_level', 'salary', 'experience', 'skills']"
   ]
  },
  {
   "cell_type": "markdown",
   "id": "56a7d7ff",
   "metadata": {},
   "source": [
    "### Convert Data into DataFrame"
   ]
  },
  {
   "cell_type": "code",
   "execution_count": 262,
   "id": "b33fb147",
   "metadata": {},
   "outputs": [
    {
     "data": {
      "text/html": [
       "<div>\n",
       "<style scoped>\n",
       "    .dataframe tbody tr th:only-of-type {\n",
       "        vertical-align: middle;\n",
       "    }\n",
       "\n",
       "    .dataframe tbody tr th {\n",
       "        vertical-align: top;\n",
       "    }\n",
       "\n",
       "    .dataframe thead th {\n",
       "        text-align: right;\n",
       "    }\n",
       "</style>\n",
       "<table border=\"1\" class=\"dataframe\">\n",
       "  <thead>\n",
       "    <tr style=\"text-align: right;\">\n",
       "      <th></th>\n",
       "      <th>name</th>\n",
       "      <th>url</th>\n",
       "      <th>country</th>\n",
       "      <th>en_level</th>\n",
       "      <th>salary</th>\n",
       "      <th>experience</th>\n",
       "      <th>skills</th>\n",
       "    </tr>\n",
       "  </thead>\n",
       "  <tbody>\n",
       "    <tr>\n",
       "      <th>0</th>\n",
       "      <td>Data Analyst</td>\n",
       "      <td>https://djinni.co/q/b50d86eb60/</td>\n",
       "      <td>Казахстан</td>\n",
       "      <td>Англійська Advanced/Fluent</td>\n",
       "      <td>$2400</td>\n",
       "      <td>7 років досвіду</td>\n",
       "      <td>SQL, Excel, Python, analytical skills, English...</td>\n",
       "    </tr>\n",
       "    <tr>\n",
       "      <th>1</th>\n",
       "      <td>Data Analyst</td>\n",
       "      <td>https://djinni.co/q/29cd59c54b/</td>\n",
       "      <td>Україна</td>\n",
       "      <td>Англійська Advanced/Fluent</td>\n",
       "      <td>$800</td>\n",
       "      <td>6 місяців</td>\n",
       "      <td>English, Tableau, SQL</td>\n",
       "    </tr>\n",
       "    <tr>\n",
       "      <th>2</th>\n",
       "      <td>Data Analyst</td>\n",
       "      <td>https://djinni.co/q/b1cfc59a3d/</td>\n",
       "      <td>Азербайджан</td>\n",
       "      <td>Англійська Upper-Intermediate</td>\n",
       "      <td>$1600</td>\n",
       "      <td>6 років досвіду</td>\n",
       "      <td>Excel, analytical skills, Data Visualisation, ...</td>\n",
       "    </tr>\n",
       "    <tr>\n",
       "      <th>3</th>\n",
       "      <td>Data Analyst, Data Engineer, Data Scientist, A...</td>\n",
       "      <td>https://djinni.co/q/242e7f9b3f/</td>\n",
       "      <td>Україна</td>\n",
       "      <td>Англійська Advanced/Fluent</td>\n",
       "      <td>$2000</td>\n",
       "      <td>3 роки досвіду</td>\n",
       "      <td>Qlik Sense, Data Analyst, SQL, Data Visualisat...</td>\n",
       "    </tr>\n",
       "    <tr>\n",
       "      <th>4</th>\n",
       "      <td>Data Analyst / Data Scientist</td>\n",
       "      <td>https://djinni.co/q/2f27fca811/</td>\n",
       "      <td>Україна</td>\n",
       "      <td>Англійська Pre-Intermediate</td>\n",
       "      <td>$3000</td>\n",
       "      <td>8 років досвіду</td>\n",
       "      <td>Python, Machine Learning, Data Science, SQL, n...</td>\n",
       "    </tr>\n",
       "  </tbody>\n",
       "</table>\n",
       "</div>"
      ],
      "text/plain": [
       "                                                name  \\\n",
       "0                                       Data Analyst   \n",
       "1                                       Data Analyst   \n",
       "2                                       Data Analyst   \n",
       "3  Data Analyst, Data Engineer, Data Scientist, A...   \n",
       "4                      Data Analyst / Data Scientist   \n",
       "\n",
       "                               url      country  \\\n",
       "0  https://djinni.co/q/b50d86eb60/    Казахстан   \n",
       "1  https://djinni.co/q/29cd59c54b/      Україна   \n",
       "2  https://djinni.co/q/b1cfc59a3d/  Азербайджан   \n",
       "3  https://djinni.co/q/242e7f9b3f/      Україна   \n",
       "4  https://djinni.co/q/2f27fca811/      Україна   \n",
       "\n",
       "                        en_level salary       experience  \\\n",
       "0     Англійська Advanced/Fluent  $2400  7 років досвіду   \n",
       "1     Англійська Advanced/Fluent   $800        6 місяців   \n",
       "2  Англійська Upper-Intermediate  $1600  6 років досвіду   \n",
       "3     Англійська Advanced/Fluent  $2000   3 роки досвіду   \n",
       "4    Англійська Pre-Intermediate  $3000  8 років досвіду   \n",
       "\n",
       "                                              skills  \n",
       "0  SQL, Excel, Python, analytical skills, English...  \n",
       "1                              English, Tableau, SQL  \n",
       "2  Excel, analytical skills, Data Visualisation, ...  \n",
       "3  Qlik Sense, Data Analyst, SQL, Data Visualisat...  \n",
       "4  Python, Machine Learning, Data Science, SQL, n...  "
      ]
     },
     "execution_count": 262,
     "metadata": {},
     "output_type": "execute_result"
    }
   ],
   "source": [
    "df = pd.DataFrame(data, columns=columns)\n",
    "df.head()"
   ]
  },
  {
   "cell_type": "markdown",
   "id": "10736d0c",
   "metadata": {},
   "source": [
    "### Cleaning and preparing Data"
   ]
  },
  {
   "cell_type": "code",
   "execution_count": 263,
   "id": "2f11705e",
   "metadata": {},
   "outputs": [
    {
     "name": "stderr",
     "output_type": "stream",
     "text": [
      "<ipython-input-263-119572279966>:2: FutureWarning: The default value of regex will change from True to False in a future version. In addition, single character regular expressions will*not* be treated as literal strings when regex=True.\n",
      "  df['salary'] = df.salary.str.replace('$', '')\n"
     ]
    }
   ],
   "source": [
    "df['en_level'] = df.en_level.str.replace('Англійська', '')\n",
    "df['salary'] = df.salary.str.replace('$', '')\n",
    "df['salary'] = df.salary.astype('int')"
   ]
  },
  {
   "cell_type": "code",
   "execution_count": 264,
   "id": "3b930331",
   "metadata": {},
   "outputs": [],
   "source": [
    "df['skills_count'] = df.skills.apply(lambda x: len(x.split(',')))"
   ]
  },
  {
   "cell_type": "code",
   "execution_count": 265,
   "id": "63526c42",
   "metadata": {},
   "outputs": [],
   "source": [
    "#function to convert experience in numbers\n",
    "\n",
    "def experience(experience):\n",
    "    \n",
    "    exp_dict = {'7 років досвіду': 7, \n",
    "                '8 років досвіду': 8, \n",
    "                '1 рік досвіду': 1,\n",
    "               '2 роки досвіду': 2,\n",
    "               '3 роки досвіду': 3,\n",
    "               'Без досвіду': 0,\n",
    "               '5 років досвіду': 5,\n",
    "               '4 роки досвіду': 4,\n",
    "               '6 місяців': 0.5,\n",
    "               '1.5 роки досвіду': 1.5,\n",
    "               '2.5 роки досвіду': 2.5,\n",
    "               'Більше 10 років досвіду': 11,\n",
    "               '6 років досвіду': 6,\n",
    "               '10 років досвіду': 10,\n",
    "               '10 років досвіду': 10}\n",
    "    \n",
    "    if experience in exp_dict:\n",
    "        return exp_dict.get(experience)"
   ]
  },
  {
   "cell_type": "code",
   "execution_count": 266,
   "id": "2eeea594",
   "metadata": {},
   "outputs": [],
   "source": [
    "df['experience'] = df.experience.apply(experience)"
   ]
  },
  {
   "cell_type": "markdown",
   "id": "45de1b95",
   "metadata": {},
   "source": [
    "### Check Data"
   ]
  },
  {
   "cell_type": "markdown",
   "id": "25487021",
   "metadata": {},
   "source": [
    "I live in Ukraine, so i interesting in candidates, who set same location."
   ]
  },
  {
   "cell_type": "code",
   "execution_count": 240,
   "id": "1ffed876",
   "metadata": {},
   "outputs": [
    {
     "data": {
      "text/plain": [
       "Україна                       267\n",
       "Азербайджан                    83\n",
       "Нігерія                        17\n",
       "Казахстан                      12\n",
       "Польща                          7\n",
       "Грузія                          6\n",
       "Естонія                         4\n",
       "Киргизстан                      4\n",
       "Німеччина                       3\n",
       "Ефіопія                         3\n",
       "Велика Британія                 3\n",
       "Канада                          2\n",
       "Сполучені Штати                 2\n",
       "Австрія                         1\n",
       "Данія                           1\n",
       "Афганістан                      1\n",
       "Єгипет                          1\n",
       "Італія                          1\n",
       "Кіпр                            1\n",
       "Таїланд                         1\n",
       "Португалія                      1\n",
       "Таджикистан                     1\n",
       "Ліван                           1\n",
       "Узбекистан                      1\n",
       "Франція                         1\n",
       "Сербія                          1\n",
       "Обʼєднані Арабські Емірати      1\n",
       "Фінляндія                       1\n",
       "Іспанія                         1\n",
       "Name: country, dtype: int64"
      ]
     },
     "execution_count": 240,
     "metadata": {},
     "output_type": "execute_result"
    }
   ],
   "source": [
    "df.country.value_counts()"
   ]
  },
  {
   "cell_type": "code",
   "execution_count": 267,
   "id": "47c67938",
   "metadata": {},
   "outputs": [],
   "source": [
    "df_ua = df.query('country == \"Україна\"')"
   ]
  },
  {
   "cell_type": "code",
   "execution_count": 268,
   "id": "9c38390a",
   "metadata": {},
   "outputs": [
    {
     "data": {
      "text/html": [
       "<div>\n",
       "<style scoped>\n",
       "    .dataframe tbody tr th:only-of-type {\n",
       "        vertical-align: middle;\n",
       "    }\n",
       "\n",
       "    .dataframe tbody tr th {\n",
       "        vertical-align: top;\n",
       "    }\n",
       "\n",
       "    .dataframe thead th {\n",
       "        text-align: right;\n",
       "    }\n",
       "</style>\n",
       "<table border=\"1\" class=\"dataframe\">\n",
       "  <thead>\n",
       "    <tr style=\"text-align: right;\">\n",
       "      <th></th>\n",
       "      <th>name</th>\n",
       "      <th>url</th>\n",
       "      <th>country</th>\n",
       "      <th>en_level</th>\n",
       "      <th>salary</th>\n",
       "      <th>experience</th>\n",
       "      <th>skills</th>\n",
       "      <th>skills_count</th>\n",
       "    </tr>\n",
       "  </thead>\n",
       "  <tbody>\n",
       "    <tr>\n",
       "      <th>1</th>\n",
       "      <td>Data Analyst</td>\n",
       "      <td>https://djinni.co/q/29cd59c54b/</td>\n",
       "      <td>Україна</td>\n",
       "      <td>Advanced/Fluent</td>\n",
       "      <td>800</td>\n",
       "      <td>0.5</td>\n",
       "      <td>English, Tableau, SQL</td>\n",
       "      <td>3</td>\n",
       "    </tr>\n",
       "    <tr>\n",
       "      <th>3</th>\n",
       "      <td>Data Analyst, Data Engineer, Data Scientist, A...</td>\n",
       "      <td>https://djinni.co/q/242e7f9b3f/</td>\n",
       "      <td>Україна</td>\n",
       "      <td>Advanced/Fluent</td>\n",
       "      <td>2000</td>\n",
       "      <td>3.0</td>\n",
       "      <td>Qlik Sense, Data Analyst, SQL, Data Visualisat...</td>\n",
       "      <td>15</td>\n",
       "    </tr>\n",
       "    <tr>\n",
       "      <th>4</th>\n",
       "      <td>Data Analyst / Data Scientist</td>\n",
       "      <td>https://djinni.co/q/2f27fca811/</td>\n",
       "      <td>Україна</td>\n",
       "      <td>Pre-Intermediate</td>\n",
       "      <td>3000</td>\n",
       "      <td>8.0</td>\n",
       "      <td>Python, Machine Learning, Data Science, SQL, n...</td>\n",
       "      <td>25</td>\n",
       "    </tr>\n",
       "    <tr>\n",
       "      <th>6</th>\n",
       "      <td>Data Analyst</td>\n",
       "      <td>https://djinni.co/q/1660c73abe/</td>\n",
       "      <td>Україна</td>\n",
       "      <td>Upper-Intermediate</td>\n",
       "      <td>1000</td>\n",
       "      <td>2.0</td>\n",
       "      <td>JavaScript, HTML, CSS, SQL, analytical skills,...</td>\n",
       "      <td>11</td>\n",
       "    </tr>\n",
       "    <tr>\n",
       "      <th>7</th>\n",
       "      <td>Data Analyst</td>\n",
       "      <td>https://djinni.co/q/2aaf562b15/</td>\n",
       "      <td>Україна</td>\n",
       "      <td>Upper-Intermediate</td>\n",
       "      <td>800</td>\n",
       "      <td>0.0</td>\n",
       "      <td>SQL, Python, Excel, analytical skills, English...</td>\n",
       "      <td>9</td>\n",
       "    </tr>\n",
       "  </tbody>\n",
       "</table>\n",
       "</div>"
      ],
      "text/plain": [
       "                                                name  \\\n",
       "1                                       Data Analyst   \n",
       "3  Data Analyst, Data Engineer, Data Scientist, A...   \n",
       "4                      Data Analyst / Data Scientist   \n",
       "6                                       Data Analyst   \n",
       "7                                       Data Analyst   \n",
       "\n",
       "                               url  country             en_level  salary  \\\n",
       "1  https://djinni.co/q/29cd59c54b/  Україна      Advanced/Fluent     800   \n",
       "3  https://djinni.co/q/242e7f9b3f/  Україна      Advanced/Fluent    2000   \n",
       "4  https://djinni.co/q/2f27fca811/  Україна     Pre-Intermediate    3000   \n",
       "6  https://djinni.co/q/1660c73abe/  Україна   Upper-Intermediate    1000   \n",
       "7  https://djinni.co/q/2aaf562b15/  Україна   Upper-Intermediate     800   \n",
       "\n",
       "   experience                                             skills  skills_count  \n",
       "1         0.5                              English, Tableau, SQL             3  \n",
       "3         3.0  Qlik Sense, Data Analyst, SQL, Data Visualisat...            15  \n",
       "4         8.0  Python, Machine Learning, Data Science, SQL, n...            25  \n",
       "6         2.0  JavaScript, HTML, CSS, SQL, analytical skills,...            11  \n",
       "7         0.0  SQL, Python, Excel, analytical skills, English...             9  "
      ]
     },
     "execution_count": 268,
     "metadata": {},
     "output_type": "execute_result"
    }
   ],
   "source": [
    "df_ua.head()"
   ]
  },
  {
   "cell_type": "code",
   "execution_count": 269,
   "id": "61e19e1b",
   "metadata": {},
   "outputs": [
    {
     "data": {
      "text/plain": [
       "(268, 8)"
      ]
     },
     "execution_count": 269,
     "metadata": {},
     "output_type": "execute_result"
    }
   ],
   "source": [
    "df_ua.shape"
   ]
  },
  {
   "cell_type": "code",
   "execution_count": 270,
   "id": "a82ce3a3",
   "metadata": {},
   "outputs": [
    {
     "name": "stderr",
     "output_type": "stream",
     "text": [
      "<ipython-input-270-a60ed8283751>:1: SettingWithCopyWarning: \n",
      "A value is trying to be set on a copy of a slice from a DataFrame\n",
      "\n",
      "See the caveats in the documentation: https://pandas.pydata.org/pandas-docs/stable/user_guide/indexing.html#returning-a-view-versus-a-copy\n",
      "  df_ua.drop_duplicates(inplace=True)\n"
     ]
    }
   ],
   "source": [
    "df_ua.drop_duplicates(inplace=True)"
   ]
  },
  {
   "cell_type": "code",
   "execution_count": 271,
   "id": "119a28fb",
   "metadata": {},
   "outputs": [
    {
     "data": {
      "text/plain": [
       "experience      2\n",
       "name            0\n",
       "url             0\n",
       "country         0\n",
       "en_level        0\n",
       "salary          0\n",
       "skills          0\n",
       "skills_count    0\n",
       "dtype: int64"
      ]
     },
     "execution_count": 271,
     "metadata": {},
     "output_type": "execute_result"
    }
   ],
   "source": [
    "df_ua.isna().sum().sort_values(ascending=False)"
   ]
  },
  {
   "cell_type": "code",
   "execution_count": 272,
   "id": "b4bb957f",
   "metadata": {
    "scrolled": true
   },
   "outputs": [
    {
     "data": {
      "text/html": [
       "<div>\n",
       "<style scoped>\n",
       "    .dataframe tbody tr th:only-of-type {\n",
       "        vertical-align: middle;\n",
       "    }\n",
       "\n",
       "    .dataframe tbody tr th {\n",
       "        vertical-align: top;\n",
       "    }\n",
       "\n",
       "    .dataframe thead th {\n",
       "        text-align: right;\n",
       "    }\n",
       "</style>\n",
       "<table border=\"1\" class=\"dataframe\">\n",
       "  <thead>\n",
       "    <tr style=\"text-align: right;\">\n",
       "      <th></th>\n",
       "      <th>salary</th>\n",
       "      <th>experience</th>\n",
       "      <th>skills_count</th>\n",
       "    </tr>\n",
       "  </thead>\n",
       "  <tbody>\n",
       "    <tr>\n",
       "      <th>count</th>\n",
       "      <td>267.000000</td>\n",
       "      <td>265.000000</td>\n",
       "      <td>267.000000</td>\n",
       "    </tr>\n",
       "    <tr>\n",
       "      <th>mean</th>\n",
       "      <td>1782.958801</td>\n",
       "      <td>3.186792</td>\n",
       "      <td>13.161049</td>\n",
       "    </tr>\n",
       "    <tr>\n",
       "      <th>std</th>\n",
       "      <td>1157.778471</td>\n",
       "      <td>2.900499</td>\n",
       "      <td>6.949354</td>\n",
       "    </tr>\n",
       "    <tr>\n",
       "      <th>min</th>\n",
       "      <td>300.000000</td>\n",
       "      <td>0.000000</td>\n",
       "      <td>1.000000</td>\n",
       "    </tr>\n",
       "    <tr>\n",
       "      <th>25%</th>\n",
       "      <td>1000.000000</td>\n",
       "      <td>1.000000</td>\n",
       "      <td>8.000000</td>\n",
       "    </tr>\n",
       "    <tr>\n",
       "      <th>50%</th>\n",
       "      <td>1500.000000</td>\n",
       "      <td>2.500000</td>\n",
       "      <td>11.000000</td>\n",
       "    </tr>\n",
       "    <tr>\n",
       "      <th>75%</th>\n",
       "      <td>2500.000000</td>\n",
       "      <td>5.000000</td>\n",
       "      <td>17.000000</td>\n",
       "    </tr>\n",
       "    <tr>\n",
       "      <th>max</th>\n",
       "      <td>8000.000000</td>\n",
       "      <td>11.000000</td>\n",
       "      <td>41.000000</td>\n",
       "    </tr>\n",
       "  </tbody>\n",
       "</table>\n",
       "</div>"
      ],
      "text/plain": [
       "            salary  experience  skills_count\n",
       "count   267.000000  265.000000    267.000000\n",
       "mean   1782.958801    3.186792     13.161049\n",
       "std    1157.778471    2.900499      6.949354\n",
       "min     300.000000    0.000000      1.000000\n",
       "25%    1000.000000    1.000000      8.000000\n",
       "50%    1500.000000    2.500000     11.000000\n",
       "75%    2500.000000    5.000000     17.000000\n",
       "max    8000.000000   11.000000     41.000000"
      ]
     },
     "execution_count": 272,
     "metadata": {},
     "output_type": "execute_result"
    }
   ],
   "source": [
    "df_ua.describe()"
   ]
  },
  {
   "cell_type": "code",
   "execution_count": 273,
   "id": "4d9002b3",
   "metadata": {},
   "outputs": [
    {
     "data": {
      "text/html": [
       "<div>\n",
       "<style scoped>\n",
       "    .dataframe tbody tr th:only-of-type {\n",
       "        vertical-align: middle;\n",
       "    }\n",
       "\n",
       "    .dataframe tbody tr th {\n",
       "        vertical-align: top;\n",
       "    }\n",
       "\n",
       "    .dataframe thead th {\n",
       "        text-align: right;\n",
       "    }\n",
       "</style>\n",
       "<table border=\"1\" class=\"dataframe\">\n",
       "  <thead>\n",
       "    <tr style=\"text-align: right;\">\n",
       "      <th></th>\n",
       "      <th>name</th>\n",
       "      <th>url</th>\n",
       "      <th>country</th>\n",
       "      <th>en_level</th>\n",
       "      <th>skills</th>\n",
       "    </tr>\n",
       "  </thead>\n",
       "  <tbody>\n",
       "    <tr>\n",
       "      <th>count</th>\n",
       "      <td>267</td>\n",
       "      <td>267</td>\n",
       "      <td>267</td>\n",
       "      <td>267</td>\n",
       "      <td>267</td>\n",
       "    </tr>\n",
       "    <tr>\n",
       "      <th>unique</th>\n",
       "      <td>126</td>\n",
       "      <td>267</td>\n",
       "      <td>1</td>\n",
       "      <td>6</td>\n",
       "      <td>267</td>\n",
       "    </tr>\n",
       "    <tr>\n",
       "      <th>top</th>\n",
       "      <td>Data Analyst</td>\n",
       "      <td>https://djinni.co/q/aa118fe7a4/</td>\n",
       "      <td>Україна</td>\n",
       "      <td>Intermediate</td>\n",
       "      <td>Vero, Amplitude, Wordstat, DataStudio, Jira, C...</td>\n",
       "    </tr>\n",
       "    <tr>\n",
       "      <th>freq</th>\n",
       "      <td>110</td>\n",
       "      <td>1</td>\n",
       "      <td>267</td>\n",
       "      <td>105</td>\n",
       "      <td>1</td>\n",
       "    </tr>\n",
       "  </tbody>\n",
       "</table>\n",
       "</div>"
      ],
      "text/plain": [
       "                name                              url  country       en_level  \\\n",
       "count            267                              267      267            267   \n",
       "unique           126                              267        1              6   \n",
       "top     Data Analyst  https://djinni.co/q/aa118fe7a4/  Україна   Intermediate   \n",
       "freq             110                                1      267            105   \n",
       "\n",
       "                                                   skills  \n",
       "count                                                 267  \n",
       "unique                                                267  \n",
       "top     Vero, Amplitude, Wordstat, DataStudio, Jira, C...  \n",
       "freq                                                    1  "
      ]
     },
     "execution_count": 273,
     "metadata": {},
     "output_type": "execute_result"
    }
   ],
   "source": [
    "df_ua.describe(include='object')"
   ]
  },
  {
   "cell_type": "markdown",
   "id": "4d135295",
   "metadata": {},
   "source": [
    "## Univariate Variable Analysis"
   ]
  },
  {
   "cell_type": "markdown",
   "id": "0d74a9c7",
   "metadata": {},
   "source": [
    "Categorical Variable: name, url, country, en_level, experience\n",
    "\n",
    "Numerical Variable: salary, skills_count"
   ]
  },
  {
   "cell_type": "markdown",
   "id": "6e31fd60",
   "metadata": {},
   "source": [
    "### Categorical Variable"
   ]
  },
  {
   "cell_type": "code",
   "execution_count": 284,
   "id": "1b75855c",
   "metadata": {},
   "outputs": [
    {
     "data": {
      "text/plain": [
       "<AxesSubplot:xlabel='en_level', ylabel='count'>"
      ]
     },
     "execution_count": 284,
     "metadata": {},
     "output_type": "execute_result"
    },
    {
     "data": {
      "image/png": "[encoded data removed]",
      "text/plain": [
       "<Figure size 720x504 with 1 Axes>"
      ]
     },
     "metadata": {
      "needs_background": "light"
     },
     "output_type": "display_data"
    }
   ],
   "source": [
    "plt.figure(figsize=(10,7))\n",
    "sns.countplot(x = df_ua.en_level)"
   ]
  },
  {
   "cell_type": "code",
   "execution_count": 287,
   "id": "d22a3f22",
   "metadata": {},
   "outputs": [
    {
     "data": {
      "text/plain": [
       "<AxesSubplot:xlabel='experience', ylabel='count'>"
      ]
     },
     "execution_count": 287,
     "metadata": {},
     "output_type": "execute_result"
    },
    {
     "data": {
      "image/png": "[encoded data removed]",
      "text/plain": [
       "<Figure size 720x504 with 1 Axes>"
      ]
     },
     "metadata": {
      "needs_background": "light"
     },
     "output_type": "display_data"
    }
   ],
   "source": [
    "plt.figure(figsize=(10,7))\n",
    "sns.countplot(x = df_ua.experience)"
   ]
  },
  {
   "cell_type": "markdown",
   "id": "8e302712",
   "metadata": {},
   "source": [
    "### Numerical Variable"
   ]
  },
  {
   "cell_type": "code",
   "execution_count": 289,
   "id": "66c7be85",
   "metadata": {},
   "outputs": [
    {
     "name": "stderr",
     "output_type": "stream",
     "text": [
      "/opt/anaconda3/lib/python3.8/site-packages/seaborn/distributions.py:2557: FutureWarning: `distplot` is a deprecated function and will be removed in a future version. Please adapt your code to use either `displot` (a figure-level function with similar flexibility) or `histplot` (an axes-level function for histograms).\n",
      "  warnings.warn(msg, FutureWarning)\n"
     ]
    },
    {
     "data": {
      "text/plain": [
       "<AxesSubplot:ylabel='Density'>"
      ]
     },
     "execution_count": 289,
     "metadata": {},
     "output_type": "execute_result"
    },
    {
     "data": {
      "image/png": "[encoded data removed]",
      "text/plain": [
       "<Figure size 720x504 with 1 Axes>"
      ]
     },
     "metadata": {
      "needs_background": "light"
     },
     "output_type": "display_data"
    }
   ],
   "source": [
    "plt.figure(figsize=(10,7))\n",
    "sns.distplot(x = df_ua.salary)"
   ]
  },
  {
   "cell_type": "code",
   "execution_count": 290,
   "id": "046d7057",
   "metadata": {},
   "outputs": [
    {
     "name": "stderr",
     "output_type": "stream",
     "text": [
      "/opt/anaconda3/lib/python3.8/site-packages/seaborn/distributions.py:2557: FutureWarning: `distplot` is a deprecated function and will be removed in a future version. Please adapt your code to use either `displot` (a figure-level function with similar flexibility) or `histplot` (an axes-level function for histograms).\n",
      "  warnings.warn(msg, FutureWarning)\n"
     ]
    },
    {
     "data": {
      "text/plain": [
       "<AxesSubplot:ylabel='Density'>"
      ]
     },
     "execution_count": 290,
     "metadata": {},
     "output_type": "execute_result"
    },
    {
     "data": {
      "image/png": "[encoded data removed]",
      "text/plain": [
       "<Figure size 720x504 with 1 Axes>"
      ]
     },
     "metadata": {
      "needs_background": "light"
     },
     "output_type": "display_data"
    }
   ],
   "source": [
    "plt.figure(figsize=(10,7))\n",
    "sns.distplot(x = df_ua.skills_count)"
   ]
  },
  {
   "cell_type": "markdown",
   "id": "a598df17",
   "metadata": {},
   "source": [
    "+ Most candidates have intermediate and upper-intermediate english.\n",
    "+ Avg. experience is 3 years.\n",
    "+ Avg. skills_count is 13.\n",
    "+ Avg. salary about 1800$"
   ]
  },
  {
   "cell_type": "markdown",
   "id": "25c41c5f",
   "metadata": {},
   "source": [
    "## Visualization"
   ]
  },
  {
   "cell_type": "markdown",
   "id": "c7590fd2",
   "metadata": {},
   "source": [
    "### Correlation Between salary -- experience -- skills_count "
   ]
  },
  {
   "cell_type": "code",
   "execution_count": 292,
   "id": "0124f171",
   "metadata": {},
   "outputs": [
    {
     "data": {
      "text/plain": [
       "<AxesSubplot:>"
      ]
     },
     "execution_count": 292,
     "metadata": {},
     "output_type": "execute_result"
    },
    {
     "data": {
      "image/png": "[encoded data removed]",
      "text/plain": [
       "<Figure size 432x288 with 2 Axes>"
      ]
     },
     "metadata": {
      "needs_background": "light"
     },
     "output_type": "display_data"
    }
   ],
   "source": [
    "sns.heatmap(df_ua.corr(), annot=True)"
   ]
  },
  {
   "cell_type": "markdown",
   "id": "af09ff84",
   "metadata": {},
   "source": [
    "Experience has correlation with salary (0.52)"
   ]
  },
  {
   "cell_type": "markdown",
   "id": "09a0186c",
   "metadata": {},
   "source": [
    "### How salary relatives to english_level"
   ]
  },
  {
   "cell_type": "code",
   "execution_count": 293,
   "id": "18e29298",
   "metadata": {},
   "outputs": [
    {
     "data": {
      "text/plain": [
       "<AxesSubplot:xlabel='en_level', ylabel='salary'>"
      ]
     },
     "execution_count": 293,
     "metadata": {},
     "output_type": "execute_result"
    },
    {
     "data": {
      "image/png": "[encoded data removed]",
      "text/plain": [
       "<Figure size 864x648 with 1 Axes>"
      ]
     },
     "metadata": {
      "needs_background": "light"
     },
     "output_type": "display_data"
    }
   ],
   "source": [
    "plt.figure(figsize=(12,9))\n",
    "sns.boxplot(x = df_ua.en_level, y=df_ua.salary)"
   ]
  },
  {
   "cell_type": "markdown",
   "id": "1d365a96",
   "metadata": {},
   "source": [
    "The higher the level of English a candidate has, the higher his salary"
   ]
  },
  {
   "cell_type": "markdown",
   "id": "82229e80",
   "metadata": {},
   "source": [
    "### How salary relatives to experience"
   ]
  },
  {
   "cell_type": "code",
   "execution_count": 294,
   "id": "10b55144",
   "metadata": {},
   "outputs": [
    {
     "data": {
      "text/plain": [
       "<AxesSubplot:xlabel='experience', ylabel='salary'>"
      ]
     },
     "execution_count": 294,
     "metadata": {},
     "output_type": "execute_result"
    },
    {
     "data": {
      "image/png": "[encoded data removed]",
      "text/plain": [
       "<Figure size 864x648 with 1 Axes>"
      ]
     },
     "metadata": {
      "needs_background": "light"
     },
     "output_type": "display_data"
    }
   ],
   "source": [
    "plt.figure(figsize=(12,9))\n",
    "sns.boxplot(x=df_ua.experience, y=df_ua.salary)\n"
   ]
  },
  {
   "cell_type": "code",
   "execution_count": 296,
   "id": "bab19237",
   "metadata": {},
   "outputs": [
    {
     "data": {
      "text/plain": [
       "experience\n",
       "0.0      600\n",
       "0.5      600\n",
       "1.0     1000\n",
       "1.5     1000\n",
       "2.0     1500\n",
       "2.5     2000\n",
       "3.0     2000\n",
       "4.0     2500\n",
       "5.0     2000\n",
       "6.0     2500\n",
       "7.0     2500\n",
       "8.0     2500\n",
       "10.0    2250\n",
       "11.0    2500\n",
       "Name: salary, dtype: int64"
      ]
     },
     "execution_count": 296,
     "metadata": {},
     "output_type": "execute_result"
    }
   ],
   "source": [
    "df_ua.groupby('experience').salary.median()"
   ]
  },
  {
   "cell_type": "markdown",
   "id": "ceba6d4f",
   "metadata": {},
   "source": [
    "The higher the experience, the higher the salary. The trend is observed up to 6 years of experience, then it is fixed at the level of about $ 2,500"
   ]
  },
  {
   "cell_type": "code",
   "execution_count": 299,
   "id": "9b221774",
   "metadata": {},
   "outputs": [
    {
     "data": {
      "text/plain": [
       "<AxesSubplot:xlabel='en_level', ylabel='experience'>"
      ]
     },
     "execution_count": 299,
     "metadata": {},
     "output_type": "execute_result"
    },
    {
     "data": {
      "image/png": "[encoded data removed]",
      "text/plain": [
       "<Figure size 864x648 with 1 Axes>"
      ]
     },
     "metadata": {
      "needs_background": "light"
     },
     "output_type": "display_data"
    }
   ],
   "source": [
    "plt.figure(figsize=(12,9))\n",
    "sns.boxplot(x=df_ua.en_level, y=df_ua.experience)"
   ]
  },
  {
   "cell_type": "markdown",
   "id": "e314e498",
   "metadata": {},
   "source": [
    "### What skills are important for data analyst?"
   ]
  },
  {
   "cell_type": "code",
   "execution_count": 336,
   "id": "634302e3",
   "metadata": {},
   "outputs": [],
   "source": [
    "skills = df_ua[['name', 'skills']]"
   ]
  },
  {
   "cell_type": "code",
   "execution_count": 337,
   "id": "19c93e3e",
   "metadata": {},
   "outputs": [
    {
     "name": "stderr",
     "output_type": "stream",
     "text": [
      "<ipython-input-337-33571ea36ad1>:1: SettingWithCopyWarning: \n",
      "A value is trying to be set on a copy of a slice from a DataFrame.\n",
      "Try using .loc[row_indexer,col_indexer] = value instead\n",
      "\n",
      "See the caveats in the documentation: https://pandas.pydata.org/pandas-docs/stable/user_guide/indexing.html#returning-a-view-versus-a-copy\n",
      "  skills['skills'] = skills.skills.str.split(',')\n"
     ]
    }
   ],
   "source": [
    "skills['skills'] = skills.skills.str.split(',')"
   ]
  },
  {
   "cell_type": "code",
   "execution_count": 348,
   "id": "659eb091",
   "metadata": {},
   "outputs": [],
   "source": [
    "#unpack lists\n",
    "skills = skills.explode('skills')\n",
    "skills['skills'] = skills.skills.str.strip()"
   ]
  },
  {
   "cell_type": "code",
   "execution_count": 339,
   "id": "677ea0bb",
   "metadata": {},
   "outputs": [],
   "source": [
    "da_skills = skills.query('name == \"Data Analyst\"')"
   ]
  },
  {
   "cell_type": "code",
   "execution_count": 347,
   "id": "be57729b",
   "metadata": {},
   "outputs": [
    {
     "data": {
      "text/plain": [
       "<AxesSubplot:>"
      ]
     },
     "execution_count": 347,
     "metadata": {},
     "output_type": "execute_result"
    },
    {
     "data": {
      "image/png": "[encoded data removed]",
      "text/plain": [
       "<Figure size 432x288 with 1 Axes>"
      ]
     },
     "metadata": {
      "needs_background": "light"
     },
     "output_type": "display_data"
    }
   ],
   "source": [
    "#top-12 skills of candidates\n",
    "da_skills.skills.value_counts().head(12).plot.bar()"
   ]
  },
  {
   "cell_type": "code",
   "execution_count": null,
   "id": "62a63752",
   "metadata": {},
   "outputs": [],
   "source": []
  }
 ],
 "metadata": {
  "kernelspec": {
   "display_name": "Python 3",
   "language": "python",
   "name": "python3"
  },
  "language_info": {
   "codemirror_mode": {
    "name": "ipython",
    "version": 3
   },
   "file_extension": ".py",
   "mimetype": "text/x-python",
   "name": "python",
   "nbconvert_exporter": "python",
   "pygments_lexer": "ipython3",
   "version": "3.8.8"
  }
 },
 "nbformat": 4,
 "nbformat_minor": 5
}
